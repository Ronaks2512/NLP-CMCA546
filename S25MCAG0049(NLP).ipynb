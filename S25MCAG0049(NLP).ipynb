{
  "nbformat": 4,
  "nbformat_minor": 0,
  "metadata": {
    "colab": {
      "provenance": []
    },
    "kernelspec": {
      "name": "python3",
      "display_name": "Python 3"
    },
    "language_info": {
      "name": "python"
    }
  },
  "cells": [
    {
      "cell_type": "code",
      "source": [
        "import re\n",
        "\n",
        "\n",
        "url = \"I love spending time at https://www.xy123z.com/\"\n",
        "email_id = \"My email id is xyz111@gmail.com\"\n",
        "hashtag = \"#Sushant is trending now in the world\"\n",
        "symbols = \"@Ajit, please help me\"\n",
        "numbers = \"8853147 sq. km of area washed away in floods\"\n",
        "punctuations = \"Corona virus killed #24506 people. #Corona is un(tolerable)\"\n",
        "pan_1 = \"ABCED3193P\"\n",
        "pan_2 = \"lEcGD012eg\"\n",
        "rmrepeat = \"heyyy this is a verrrry loong texttt\"\n",
        "mobile_number = \"9990001796\"\n",
        "capital = \"Ajit Doval is the best National Security Advisor so far\"\n"
      ],
      "metadata": {
        "id": "n9EffAOFz9xh"
      },
      "execution_count": 33,
      "outputs": []
    },
    {
      "cell_type": "code",
      "source": [
        "def fi_url(text):\n",
        "  return re.findall(r'https?://[^\\s]+',text)\n",
        "\n",
        "x= fi_url(url)\n",
        "print(x)"
      ],
      "metadata": {
        "colab": {
          "base_uri": "https://localhost:8080/"
        },
        "id": "w2rQcv5A19Bw",
        "outputId": "9bb768bd-5418-4824-b73c-2a6ac14c35a3"
      },
      "execution_count": 34,
      "outputs": [
        {
          "output_type": "stream",
          "name": "stdout",
          "text": [
            "['https://www.xy123z.com/']\n"
          ]
        }
      ]
    },
    {
      "cell_type": "code",
      "source": [
        "def fi_email(text):\n",
        "  return re.findall(r'\\w+@gmail.com',text)\n",
        "\n",
        "x = fi_email(email_id)\n",
        "print(x)"
      ],
      "metadata": {
        "colab": {
          "base_uri": "https://localhost:8080/"
        },
        "id": "cTNzAdoK3zRj",
        "outputId": "a0a47fcf-4ac8-4ec9-85ca-157929a5e2d9"
      },
      "execution_count": 35,
      "outputs": [
        {
          "output_type": "stream",
          "name": "stdout",
          "text": [
            "['xyz111@gmail.com']\n"
          ]
        }
      ]
    },
    {
      "cell_type": "code",
      "source": [
        "def fi_hash(text):\n",
        "  return re.findall(r'#+[\\w]+',text)\n",
        "\n",
        "x=fi_hash(hashtag)\n",
        "print(x)"
      ],
      "metadata": {
        "colab": {
          "base_uri": "https://localhost:8080/"
        },
        "id": "n7eG3b-N4j82",
        "outputId": "9312f649-7603-4847-cfe7-08c9894bd586"
      },
      "execution_count": 36,
      "outputs": [
        {
          "output_type": "stream",
          "name": "stdout",
          "text": [
            "['#Sushant']\n"
          ]
        }
      ]
    },
    {
      "cell_type": "code",
      "source": [
        "def fi_symbols(text):\n",
        "  return re.findall(r'@+\\w+',text)\n",
        "\n",
        "x = fi_symbols(symbols)\n",
        "print(x)"
      ],
      "metadata": {
        "colab": {
          "base_uri": "https://localhost:8080/"
        },
        "id": "g_Lnj3lu53lO",
        "outputId": "f03ce9c6-f37e-4509-eee0-baa1224401c7"
      },
      "execution_count": 42,
      "outputs": [
        {
          "output_type": "stream",
          "name": "stdout",
          "text": [
            "['@Ajit']\n"
          ]
        }
      ]
    },
    {
      "cell_type": "code",
      "source": [
        "def fi_numbers(text):\n",
        "  return re.findall(r'\\d+',text)\n",
        "\n",
        "x = fi_numbers(numbers)\n",
        "print(x)"
      ],
      "metadata": {
        "colab": {
          "base_uri": "https://localhost:8080/"
        },
        "id": "KxFODLn_6tyW",
        "outputId": "4929590f-89aa-4592-a6e3-b947ba305b4d"
      },
      "execution_count": 43,
      "outputs": [
        {
          "output_type": "stream",
          "name": "stdout",
          "text": [
            "['8853147']\n"
          ]
        }
      ]
    },
    {
      "cell_type": "code",
      "source": [
        "def fi_punctuations(text):\n",
        "  return re.findall(r'[^\\w\\s]',text)\n",
        "\n",
        "x = fi_punctuations(punctuations)\n",
        "print(x)"
      ],
      "metadata": {
        "colab": {
          "base_uri": "https://localhost:8080/"
        },
        "id": "SA_mOXZh7IR2",
        "outputId": "e154dcd1-6353-494e-e74c-a11271f92a68"
      },
      "execution_count": 45,
      "outputs": [
        {
          "output_type": "stream",
          "name": "stdout",
          "text": [
            "['#', '.', '#', '(', ')']\n"
          ]
        }
      ]
    },
    {
      "cell_type": "code",
      "source": [
        "def fi_pan_1(text):\n",
        "  return re.findall(r'[A-Z]{5}[0-9]{4}[A-Z]',text)\n",
        "\n",
        "x = fi_pan_1(pan_1)\n",
        "print(x)"
      ],
      "metadata": {
        "colab": {
          "base_uri": "https://localhost:8080/"
        },
        "id": "ZO4vhAHX7deB",
        "outputId": "c05ae4f2-a441-49e2-bda2-a1c07ff29ce9"
      },
      "execution_count": 46,
      "outputs": [
        {
          "output_type": "stream",
          "name": "stdout",
          "text": [
            "['ABCED3193P']\n"
          ]
        }
      ]
    },
    {
      "cell_type": "code",
      "source": [
        "def fi_rmrepeat(text):\n",
        "  return re.findall(r'(\\w*)(\\w)\\2(\\w*)',text)\n",
        "\n",
        "x = fi_rmrepeat(rmrepeat)\n",
        "print(x)"
      ],
      "metadata": {
        "colab": {
          "base_uri": "https://localhost:8080/"
        },
        "id": "XjrmXT9T8OL5",
        "outputId": "398b2855-1a41-4d56-97d0-9613a7607b2e"
      },
      "execution_count": 52,
      "outputs": [
        {
          "output_type": "stream",
          "name": "stdout",
          "text": [
            "[('hey', 'y', ''), ('verr', 'r', 'y'), ('l', 'o', 'ng'), ('text', 't', '')]\n"
          ]
        }
      ]
    },
    {
      "cell_type": "code",
      "source": [
        "def fi_mobile_number(text):\n",
        "  return re.findall(r'\\d{10}',text)\n",
        "\n",
        "x = fi_mobile_number(mobile_number)\n",
        "print(x)"
      ],
      "metadata": {
        "colab": {
          "base_uri": "https://localhost:8080/"
        },
        "id": "YopZvSAu8fAG",
        "outputId": "c2bb329a-99c0-4fcc-fafb-2a5e2161be3f"
      },
      "execution_count": 53,
      "outputs": [
        {
          "output_type": "stream",
          "name": "stdout",
          "text": [
            "['9990001796']\n"
          ]
        }
      ]
    },
    {
      "cell_type": "code",
      "source": [
        "def fi_capital(text):\n",
        "  return re.findall(r'[A-Z][a-z]*',text)\n",
        "\n",
        "x = fi_capital(capital)\n",
        "print(x)"
      ],
      "metadata": {
        "colab": {
          "base_uri": "https://localhost:8080/"
        },
        "id": "N22bNFAD8rxD",
        "outputId": "4a73ec6f-928e-4905-91f4-3a8f9cf1a404"
      },
      "execution_count": 54,
      "outputs": [
        {
          "output_type": "stream",
          "name": "stdout",
          "text": [
            "['Ajit', 'Doval', 'National', 'Security', 'Advisor']\n"
          ]
        }
      ]
    }
  ]
}