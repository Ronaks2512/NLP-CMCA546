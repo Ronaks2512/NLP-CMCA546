{
  "nbformat": 4,
  "nbformat_minor": 0,
  "metadata": {
    "colab": {
      "provenance": []
    },
    "kernelspec": {
      "name": "python3",
      "display_name": "Python 3"
    },
    "language_info": {
      "name": "python"
    }
  },
  "cells": [
    {
      "cell_type": "code",
      "metadata": {
        "colab": {
          "base_uri": "https://localhost:8080/"
        },
        "id": "82aa7012",
        "outputId": "386e3ae6-b203-476e-8d59-7679ba7e911b"
      },
      "source": [
        "import os\n",
        "\n",
        "file_path = '/content/read.txt'\n",
        "\n",
        "if os.path.exists(file_path):\n",
        "    with open(file_path, 'r') as file:\n",
        "        content = file.read()\n",
        "        print(\"File content:\")\n",
        "        print(content)\n",
        "else:\n",
        "    print(f\"Error: The file '{file_path}' was not found.\")\n",
        "    print(\"Please make sure the file exists in the specified path.\")\n",
        "\n",
        "text = content.lower()\n"
      ],
      "execution_count": 10,
      "outputs": [
        {
          "output_type": "stream",
          "name": "stdout",
          "text": [
            "File content:\n",
            "1.\twhoaaaa 😵 this article on AI & ethics issss fireeee!!! i mean, wowww, the way it talks about robotssss takin’ over da world? lollll 😂😂😂 so craaazy! found it at www.robotnews.com//// 4 real, u gotta read ittt!!! @@@ #scarybutcool #futuristicttt\n",
            "\n",
            "2.\tcan'tttt evennnn with this new techppp blog... sooo muchhh info jam-packed in one loooong posttttt 😩😩!! \n",
            "but the way itzz writtennn… nahhh bruh. full of typos, emoji overload 🤯💥, and weirddddd punctuationnnn like !!!!!!????!!! find it at www.techmessy.io////\n",
            "\n",
            "3.\tA.I. is changinnn’ da worldd, fam!! 🤖✨ like everyyy single aspect of lifeee—workkk, healthhh, educashun 😂😂😂!! dis article: \"how AI gonna make u smarterrrr\" waz LIT 🔥🔥🔥. got it from www.getsmartai.com//// plzzzz fix the grammerz tho #looolz @@@!!!!\n",
            "\n",
            "4.\tomg omg omg 😱😱!! dat post on generative AI + music just BLEW MY HEADDD OFF!! 🧠💥💥💥 no joke!!! \"beethovennnn with beats\" lol whattt evennnn 😆😆 #nextlevel. saw it on www.genmusic.art//// so so many randomnn letterssss & symbols #@#@# 😵\n",
            "\n",
            "5.\tlolz!!! u ever read sumthing n feel dumberrrr after??? 🤣🤣 this blog on AI bias had soooo manyyyy errorsss, like spellingggg, grammerzz, and weird layout @@@%%%... i had to squinttttt. check dis out: www.wacksource.ai//// but read at ur own risk lololol\n",
            "\n"
          ]
        }
      ]
    },
    {
      "cell_type": "code",
      "source": [
        "import re\n",
        "text = content.lower()\n",
        "\n",
        "text = re.sub(r'\\s+', ' ', text).strip()\n",
        "\n",
        "\n",
        "contractions = {\n",
        "    \"can't\": \"cannot\", \"u\": \"you\", \"ur\": \"your\", \"r\": \"are\",\n",
        "    \"dat\": \"that\", \"dis\": \"this\", \"gonna\": \"going to\", \"waz\": \"was\",\n",
        "    \"lolz\": \"lol\", \"lollll\": \"lol\", \"looolz\": \"lol\", \"plzzzz\": \"please\",\n",
        "    \"nahhh\": \"nah\", \"bruh\": \"bro\", \"itz\": \"it is\", \"n\": \"and\"\n",
        "}\n",
        "for word, replacement in contractions.items():\n",
        "    text = re.sub(rf'\\b{word}\\b', replacement, text)\n",
        "\n",
        "text = re.sub(r'http\\S+|www\\.\\S+', '', text)\n",
        "\n",
        "\n",
        "text = re.sub(r'[^\\w\\s.,!?\\'\"“”\\-—]+', '', text)\n",
        "\n",
        "\n",
        "text = re.sub(r'(.)\\1{2,}', r'\\1\\1', text)\n",
        "\n",
        "\n",
        "text = re.sub(r'[!?]{2,}', '!?', text)\n",
        "text = re.sub(r'\\.{2,}', '.', text)\n",
        "\n",
        "\n",
        "print(\"Cleaned Text:\\n\")\n",
        "print(text)\n",
        "\n",
        "\n"
      ],
      "metadata": {
        "colab": {
          "base_uri": "https://localhost:8080/"
        },
        "id": "sxMp_e8uBwt2",
        "outputId": "3fd2d0dc-eccd-4c1a-cf4a-00f7dd9e884b"
      },
      "execution_count": 11,
      "outputs": [
        {
          "output_type": "stream",
          "name": "stdout",
          "text": [
            "Cleaned Text:\n",
            "\n",
            "1. whoaa  this article on ai  ethics iss firee!? i mean, woww, the way it talks about robotss takin over da world? lol  so craazy! found it at  4 real, you gotta read itt!?  scarybutcool futuristictt 2. can'tt evenn with this new techpp blog. soo muchh info jam-packed in one loong postt !? but the way itzz writtenn nah bro. full of typos, emoji overload , and weirdd punctuationn like !? find it at  3. a.i. is changinn da worldd, fam!?  like everyy single aspect of lifee—workk, healthh, educashun !? this article \"how ai going to make you smarterr\" was lit . got it from  please fix the grammerz tho lol !? 4. omg omg omg !? that post on generative ai  music just blew my headd off!?  no joke!? \"beethovenn with beats\" lol whatt evenn  nextlevel. saw it on  so so many randomnn letterss  symbols  5. lol!? you ever read sumthing and feel dumberr after!?  this blog on ai bias had soo manyy errorss, like spellingg, grammerzz, and weird layout . i had to squintt. check this out  but read at your own risk lololol\n"
          ]
        }
      ]
    }
  ]
}